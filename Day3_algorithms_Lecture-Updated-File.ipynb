{
 "cells": [
  {
   "cell_type": "markdown",
   "metadata": {},
   "source": [
    "# Classic Algorithms"
   ]
  },
  {
   "cell_type": "markdown",
   "metadata": {},
   "source": [
    "## Tasks Today:\n",
    " \n",
    "1) <b>In-Place Algorithms</b> <br>\n",
    " &nbsp;&nbsp;&nbsp;&nbsp; a) Syntax <br>\n",
    " &nbsp;&nbsp;&nbsp;&nbsp; a) Out of Place Algorithm <br>\n",
    " &nbsp;&nbsp;&nbsp;&nbsp; b) In-Class Exercise #1 <br>\n",
    "2) <b>Two Pointers</b> <br>\n",
    "3) <b>Sorting Algorithms</b> <br>\n",
    "4) <b>Merge Sort</b> <br>\n",
    " &nbsp;&nbsp;&nbsp;&nbsp; a) Video on Algorithms <br>\n",
    " &nbsp;&nbsp;&nbsp;&nbsp; b) How it Works <br>\n",
    "5) <b>Exercises</b> <br>\n",
    " &nbsp;&nbsp;&nbsp;&nbsp; a) Exercise #1 - Reverse a List in Place Using an In-Place Algorithm <br>\n",
    " &nbsp;&nbsp;&nbsp;&nbsp; b) Exercise #2 - Find Distinct Words <br>\n",
    " &nbsp;&nbsp;&nbsp;&nbsp; c) Exercise #3 - Write a program to implement a Linear Search Algorithm. <br>"
   ]
  },
  {
   "cell_type": "markdown",
   "metadata": {},
   "source": [
    "## In-Place Algorithms"
   ]
  },
  {
   "cell_type": "markdown",
   "metadata": {},
   "source": [
    "#### Syntax"
   ]
  },
  {
   "cell_type": "code",
   "execution_count": 25,
   "metadata": {},
   "outputs": [
    {
     "name": "stdout",
     "output_type": "stream",
     "text": [
      "Before 'swap': [20, 4, 10]\n",
      "After 'swap'[10, 4, 20]\n"
     ]
    }
   ],
   "source": [
    "#var [i], var[i+1] = var[i+1], var[i]\n",
    "# ^ swap algorithm ^\n",
    "\n",
    "def swap(alist,x,y,z): #function(iterable, 3 positions(x,y,z))\n",
    "    alist[x],alist[y],alist[z] = alist[z],alist[y],alist[x] #changes positions of x and z\n",
    "    return alist\n",
    "\n",
    "my_list = [20,4,10]\n",
    "print(f\"Before 'swap': {my_list}\")\n",
    "swap(my_list,0,1,2)\n",
    "print(f\"After 'swap'{my_list}\")"
   ]
  },
  {
   "cell_type": "markdown",
   "metadata": {},
   "source": [
    "#### Out of Place Algorithm"
   ]
  },
  {
   "cell_type": "code",
   "execution_count": 14,
   "metadata": {},
   "outputs": [
    {
     "name": "stdout",
     "output_type": "stream",
     "text": [
      "[20, 10, 4, 25]\n",
      "['a', 'a', 'a', 'a']\n",
      "before swap: ['a', 'b', 'c', 'd']\n",
      "AFTER out of place swap: ['d', 'c', 'b', 'a']\n"
     ]
    }
   ],
   "source": [
    "#NOT swapping IN-PLACE, rather reversing a copy of a list\n",
    "my_list_copy = my_list[::-1]\n",
    "print(my_list_copy)\n",
    "\n",
    "\n",
    "#LONG FORM out of place...\n",
    "list_a = [\"a\",\"b\",\"c\",\"d\"]\n",
    "new_list = [\"a\"]* len(list_a)\n",
    "print(new_list)\n",
    "\n",
    "print(f\"before swap: {list_a}\")\n",
    "\n",
    "length = len(list_a)-1\n",
    "\n",
    "for i in range(length):\n",
    "    new_list[i] = list_a[length - i]\n",
    "    #new_list[0] = list_a[3-0 (3)]\n",
    "    #new_list[1] = list_a [3-1 (2)]\n",
    "    #new_list[2] = list_a [3-2 (1)]\n",
    "    #new_list[3] = list_a [3-3 (0)]\n",
    "    \n",
    "list_a = new_list\n",
    "print(f\"AFTER out of place swap: {list_a}\")"
   ]
  },
  {
   "cell_type": "markdown",
   "metadata": {},
   "source": [
    "#### In-Class Exercise #1 <br>\n",
    "<p>Write a function that takes in four arguments (list, index1, index2, index3), and swaps those three positions in the list passed in.</p>"
   ]
  },
  {
   "cell_type": "code",
   "execution_count": 33,
   "metadata": {},
   "outputs": [
    {
     "name": "stdout",
     "output_type": "stream",
     "text": [
      "[1, 2, 3, 4, 5, 6, 7]\n",
      "[1, 3, 2, 4, 5, 6, 7]\n"
     ]
    }
   ],
   "source": [
    "l_1 = [10, 5, 3, 8, 4, 2, 6]\n",
    "l_2 = [1,2,3,4,5,6,7]\n",
    "##TODO Return to this\n",
    "#does this read right to left or left to right???\n",
    "\n",
    "def swap(alist,x,y,z):\n",
    "    alist[x],alist[y],alist[z] = alist[z],alist[y],alist[x]\n",
    "    return alist\n",
    "print(l_2)\n",
    "print(swap(l_2,1,0,2))\n",
    "\n",
    "\n",
    "\n"
   ]
  },
  {
   "cell_type": "markdown",
   "metadata": {},
   "source": [
    "## Two Pointers"
   ]
  },
  {
   "cell_type": "markdown",
   "metadata": {},
   "source": [
    "#### Syntax"
   ]
  },
  {
   "cell_type": "code",
   "execution_count": 31,
   "metadata": {},
   "outputs": [
    {
     "name": "stdout",
     "output_type": "stream",
     "text": [
      "Before swap [1, 2, 3, 12, 9, 8, 11, 22, 35]\n",
      "After swap [35, 22, 11, 8, 9, 12, 3, 2, 1]\n"
     ]
    }
   ],
   "source": [
    "#using two pointers to swap info, can use while loop for most cases\n",
    "\n",
    "def twoPointers(alist): #will reverse the order of a list\n",
    "    #creating pointers for the list below\n",
    "    left = 0 #first position in list\n",
    "    right = len(alist) -1   #last position in the list. looks at length of the list, \n",
    "                            #subtracts one, creates index number for final place\n",
    "    while left <= right: #while first index is less than or equal to last index\n",
    "        alist[left], alist[right] = alist[right],alist[left] #swap first and last index in the list\n",
    "        left+=1 #increase first index by 1\n",
    "        right -=1 #decrease end index by 1\n",
    "    return alist\n",
    "\n",
    "my_list2 = [1,2,3,12,9,8,11,22]\n",
    "print(f\"Before swap {my_list2}\")\n",
    "\n",
    "twoPointers(my_list2)\n",
    "print(f\"After swap {my_list2}\")"
   ]
  },
  {
   "cell_type": "markdown",
   "metadata": {},
   "source": [
    "#### Video of Algorithms <br>\n",
    "<p>Watch the video about algorithms.</p>\n",
    "\n",
    "https://www.youtube.com/watch?v=Q9HjeFD62Uk\n",
    "\n",
    "https://www.youtube.com/watch?v=kPRA0W1kECg\n",
    "\n",
    "https://www.youtube.com/watch?v=ZZuD6iUe3Pc"
   ]
  },
  {
   "cell_type": "markdown",
   "metadata": {},
   "source": [
    "# Sorting Algorithms"
   ]
  },
  {
   "cell_type": "code",
   "execution_count": null,
   "metadata": {},
   "outputs": [],
   "source": []
  },
  {
   "cell_type": "markdown",
   "metadata": {},
   "source": [
    "#### Bubble Sort\n",
    "\n",
    "Worst Case: O(n^2) Time - O(1) Space"
   ]
  },
  {
   "cell_type": "code",
   "execution_count": 40,
   "metadata": {},
   "outputs": [
    {
     "data": {
      "text/plain": [
       "[1, 22, 34, 44, 55, 66, 88, 100]"
      ]
     },
     "execution_count": 40,
     "metadata": {},
     "output_type": "execute_result"
    }
   ],
   "source": [
    "#Best Case: 0(n)\n",
    "#Worst Case: 0(n^2)\n",
    "\n",
    "def swap(i,j, alist): #helper swap function\n",
    "    alist[i], alist[j] = alist[j], alist[i]\n",
    "    \n",
    "def bubbleSort(alist):\n",
    "    isSorted = False\n",
    "    while not isSorted:\n",
    "        isSorted = True\n",
    "        for num in range(len(alist) - 1): #for range of length of the list-1 index\n",
    "            if alist[num] > alist[num + 1]: #if num[1] > num[2], change places and flip sorted flag to none\n",
    "                swap(num, num+1, alist)\n",
    "                isSorted = False\n",
    "    return alist\n",
    "\n",
    "bubbleSort([22,55,88,44,1,100,34,66])\n"
   ]
  },
  {
   "cell_type": "markdown",
   "metadata": {},
   "source": [
    "##### Insertion Sort\n",
    "\n",
    "Worst Case: O(n^2) time - O(1)space"
   ]
  },
  {
   "cell_type": "code",
   "execution_count": 41,
   "metadata": {},
   "outputs": [
    {
     "data": {
      "text/plain": [
       "[1, 22, 34, 44, 55, 66, 88, 100]"
      ]
     },
     "execution_count": 41,
     "metadata": {},
     "output_type": "execute_result"
    }
   ],
   "source": [
    "def swap(i,j,alist):#helper swap function\n",
    "    alist[i], alist[j] = alist[j], alist[i]\n",
    "    \n",
    "def insertionSort(alist):\n",
    "    for i in range(1,len(alist)):\n",
    "        j = i #index helper\n",
    "        while j>0 and alist[j] < alist[j-1]: #if this is a list and the number on the right is smaller than the one on the left\n",
    "            swap(j,j-1,alist) #swap numbers\n",
    "            j -=1 #decrement j so youre looking at the next number\n",
    "    return (alist)\n",
    "\n",
    "insertionSort([22,55,88,44,1,100,34,66])"
   ]
  },
  {
   "cell_type": "markdown",
   "metadata": {},
   "source": [
    "## Merge Sort"
   ]
  },
  {
   "cell_type": "markdown",
   "metadata": {},
   "source": [
    "#### How it Works"
   ]
  },
  {
   "cell_type": "code",
   "execution_count": 46,
   "metadata": {},
   "outputs": [
    {
     "name": "stdout",
     "output_type": "stream",
     "text": [
      "Splitting...[14, 14, 5, 20, 10]\n",
      "Splitting...[14, 14]\n",
      "Splitting...[14]\n",
      "Merging: [14]\n",
      "Splitting...[14]\n",
      "Merging: [14]\n",
      "Merging: [14, 14]\n",
      "Splitting...[5, 20, 10]\n",
      "Splitting...[5]\n",
      "Merging: [5]\n",
      "Splitting...[20, 10]\n",
      "Splitting...[20]\n",
      "Merging: [20]\n",
      "Splitting...[10]\n",
      "Merging: [10]\n",
      "Merging: [10, 20]\n",
      "Merging: [5, 10, 20]\n",
      "Merging: [5, 10, 14, 14, 20]\n",
      "Splitting...[22, 55, 88, 44, 1, 100, 34, 66]\n",
      "Splitting...[22, 55, 88, 44]\n",
      "Splitting...[22, 55]\n",
      "Splitting...[22]\n",
      "Merging: [22]\n",
      "Splitting...[55]\n",
      "Merging: [55]\n",
      "Merging: [22, 55]\n",
      "Splitting...[88, 44]\n",
      "Splitting...[88]\n",
      "Merging: [88]\n",
      "Splitting...[44]\n",
      "Merging: [44]\n",
      "Merging: [44, 88]\n",
      "Merging: [22, 44, 55, 88]\n",
      "Splitting...[1, 100, 34, 66]\n",
      "Splitting...[1, 100]\n",
      "Splitting...[1]\n",
      "Merging: [1]\n",
      "Splitting...[100]\n",
      "Merging: [100]\n",
      "Merging: [1, 100]\n",
      "Splitting...[34, 66]\n",
      "Splitting...[34]\n",
      "Merging: [34]\n",
      "Splitting...[66]\n",
      "Merging: [66]\n",
      "Merging: [34, 66]\n",
      "Merging: [1, 34, 66, 100]\n",
      "Merging: [1, 22, 34, 44, 55, 66, 88, 100]\n"
     ]
    },
    {
     "data": {
      "text/plain": [
       "[1, 22, 34, 44, 55, 66, 88, 100]"
      ]
     },
     "execution_count": 46,
     "metadata": {},
     "output_type": "execute_result"
    }
   ],
   "source": [
    "# Step 1: Select the entire list -- then split the list into groups\n",
    "# Step 2: From left to right, merge the two groups together\n",
    "# Step 3: While merging, place each item into the correct position with the merge groups\n",
    "# step 4: continue steps 3-4 until one single group is left\n",
    "\n",
    "from random import randint\n",
    "\n",
    "nums = [randint(0,20) for i in range(5)]\n",
    "another_list = [22,55,88,44,1,100,34,66]\n",
    "\n",
    "def mergeSort(alist):\n",
    "    print(f\"Splitting...{alist}\")\n",
    "    \n",
    "    if len(alist) > 1: #creating two lists along the midpoint\n",
    "        mid = len(alist) // 2\n",
    "        lefthalf = alist[:mid]\n",
    "        righthalf = alist[mid:]\n",
    "        \n",
    "        #recursively call mergsort to perform splits and merges as needed\n",
    "        mergeSort(lefthalf)\n",
    "        mergeSort(righthalf)\n",
    "        \n",
    "        #set index pointers for our list\n",
    "        i = 0 #pointer for the left half\n",
    "        j = 0 #pointer for the right half\n",
    "        k = 0 #pointer for the main array\n",
    "        \n",
    "        #Step 2: Compare the lefthalf and righthalf\n",
    "        while i < len(lefthalf) and j <len (righthalf):\n",
    "            if lefthalf[i] < righthalf[j]:\n",
    "                alist[k] = lefthalf[i]\n",
    "                i = i +1\n",
    "            else:\n",
    "                alist[k] = righthalf[j]\n",
    "                j = j+1\n",
    "            k = k + 1\n",
    "        #remerging the lsits\n",
    "        while i < len(lefthalf):\n",
    "            alist[k] = lefthalf[i]\n",
    "            i = i + 1\n",
    "            k = k + 1\n",
    "        while j < len(righthalf):\n",
    "            alist[k] = righthalf[j]\n",
    "            j = j + 1\n",
    "            k = k +1\n",
    "    print(f\"Merging: {alist}\")\n",
    "    return alist\n",
    "\n",
    "mergeSort(nums)\n",
    "mergeSort(another_list)"
   ]
  },
  {
   "cell_type": "markdown",
   "metadata": {},
   "source": [
    "# Binary Search\n",
    "\n",
    "The Binary Search algorithm works by finding the number in the middle of a given array and comparing it to the target. Given that the array is sorted\n",
    "\n",
    "* The worst case run time for this algorithm is `O(log(n))`"
   ]
  },
  {
   "cell_type": "code",
   "execution_count": 52,
   "metadata": {},
   "outputs": [
    {
     "data": {
      "text/plain": [
       "'The index is 10'"
      ]
     },
     "execution_count": 52,
     "metadata": {},
     "output_type": "execute_result"
    }
   ],
   "source": [
    "#less == left\n",
    "#greater = right\n",
    "#list must be sorted\n",
    "\n",
    "def binarySearchHelperFunction(alist,target,left,right):\n",
    "    while left <= right:\n",
    "        middle = (left+right) // 2\n",
    "        potential_match = alist[middle]\n",
    "        if target == potential_match:\n",
    "            return f\"The index is {middle}\"\n",
    "        elif target < potential_match:\n",
    "            right = middle - 1\n",
    "        else:\n",
    "            left = middle + 1\n",
    "    return -1\n",
    "\n",
    "def binarySearch(alist, target):\n",
    "    return binarySearchHelperFunction(alist,target,0,len(alist)-1)\n",
    "\n",
    "binarySearch([12,13,15,16,17,18,19,30,31,36,44,45,46,47],44)"
   ]
  },
  {
   "cell_type": "markdown",
   "metadata": {},
   "source": [
    "# Exercises"
   ]
  },
  {
   "cell_type": "markdown",
   "metadata": {},
   "source": [
    "### Exercise #1 <br>\n",
    "<p>Reverse the list below in-place using an in-place algorithm.<br>For extra credit: Reverse the strings at the same time.</p>"
   ]
  },
  {
   "cell_type": "code",
   "execution_count": 11,
   "metadata": {},
   "outputs": [
    {
     "data": {
      "text/plain": [
       "['.', 'sentence', 'a', 'is', 'this']"
      ]
     },
     "execution_count": 11,
     "metadata": {},
     "output_type": "execute_result"
    }
   ],
   "source": [
    "words = ['this' , 'is', 'a', 'sentence', '.']\n",
    "\n",
    "def reverse(alist):\n",
    "    return alist[::-1]\n",
    "\n",
    "reverse(words)"
   ]
  },
  {
   "cell_type": "markdown",
   "metadata": {},
   "source": [
    "### Exercise #2 <br>\n",
    "<p>Create a function that counts how many distinct words are in the string below, then outputs a dictionary with the words as the key and the value as the amount of times that word appears in the string.<br>Should output:<br>{'a': 5,<br>\n",
    " 'abstract': 1,<br>\n",
    " 'an': 3,<br>\n",
    " 'array': 2, ... etc...</p>"
   ]
  },
  {
   "cell_type": "code",
   "execution_count": 9,
   "metadata": {},
   "outputs": [
    {
     "data": {
      "text/plain": [
       "{'in': 1,\n",
       " 'computing,': 1,\n",
       " 'a': 5,\n",
       " 'hash': 4,\n",
       " 'table': 2,\n",
       " 'map': 2,\n",
       " 'is': 1,\n",
       " 'data': 2,\n",
       " 'structure': 2,\n",
       " 'which': 2,\n",
       " 'implements': 1,\n",
       " 'an': 3,\n",
       " 'associative': 1,\n",
       " 'array': 2,\n",
       " 'abstract': 1,\n",
       " 'type,': 1,\n",
       " 'that': 1,\n",
       " 'can': 2,\n",
       " 'keys': 1,\n",
       " 'to': 2,\n",
       " 'values.': 1,\n",
       " 'uses': 1,\n",
       " 'function': 1,\n",
       " 'compute': 1,\n",
       " 'index': 1,\n",
       " 'into': 1,\n",
       " 'of': 1,\n",
       " 'buckets': 1,\n",
       " 'or': 1,\n",
       " 'slots': 1,\n",
       " 'from': 1,\n",
       " 'the': 1,\n",
       " 'desired': 1,\n",
       " 'value': 1,\n",
       " 'be': 1,\n",
       " 'found': 1}"
      ]
     },
     "execution_count": 9,
     "metadata": {},
     "output_type": "execute_result"
    }
   ],
   "source": [
    "a_text = 'In computing, a hash table hash map is a data structure which implements an associative array abstract data type, a structure that can map keys to values. A hash table uses a hash function to compute an index into an array of buckets or slots from which the desired value can be found'\n",
    "\n",
    "#create an algorithm. wont be a classic algorith\n",
    "#break apart whole string into parts\n",
    "\n",
    "#first find each word,\n",
    "def distinctWords(astring):\n",
    "    indexDict = {} #create storage dictionary\n",
    "    string_list = astring.lower().split() #break apart the string by spaces into a list #added .lower to consolidate words\n",
    "    for word in string_list:\n",
    "        if word in indexDict: #look at dictionary, if word exists, increment value by 1\n",
    "            indexDict[word] +=1\n",
    "        else: \n",
    "            indexDict[word] = 1 #create key/value pair in dictionary\n",
    "    return indexDict\n",
    "\n",
    "\n",
    "distinctWords(a_text)\n"
   ]
  },
  {
   "cell_type": "markdown",
   "metadata": {},
   "source": [
    "## Exercise #3\n",
    "\n",
    "Write a program to implement a Linear Search Algorithm. Also in a comment, write the Time Complexity of the following algorithm.\n",
    "\n",
    "#### Hint: Linear Searching will require searching a list for a given number. "
   ]
  },
  {
   "cell_type": "code",
   "execution_count": 14,
   "metadata": {},
   "outputs": [
    {
     "ename": "SyntaxError",
     "evalue": "invalid syntax (<ipython-input-14-504659025824>, line 7)",
     "output_type": "error",
     "traceback": [
      "\u001b[0;36m  File \u001b[0;32m\"<ipython-input-14-504659025824>\"\u001b[0;36m, line \u001b[0;32m7\u001b[0m\n\u001b[0;31m    i +=\u001b[0m\n\u001b[0m        ^\u001b[0m\n\u001b[0;31mSyntaxError\u001b[0m\u001b[0;31m:\u001b[0m invalid syntax\n"
     ]
    }
   ],
   "source": [
    "#create an algorithm to do lineear serach\n",
    "#create a comment with the time complexity\n",
    "\n",
    "def linearSearc(alist,target):\n",
    "    i = 0\n",
    "    while alist[i] > target:\n",
    "        i +=\n",
    "    else:\n",
    "        return i\n"
   ]
  },
  {
   "cell_type": "code",
   "execution_count": null,
   "metadata": {},
   "outputs": [],
   "source": []
  }
 ],
 "metadata": {
  "kernelspec": {
   "display_name": "Python 3",
   "language": "python",
   "name": "python3"
  },
  "language_info": {
   "codemirror_mode": {
    "name": "ipython",
    "version": 3
   },
   "file_extension": ".py",
   "mimetype": "text/x-python",
   "name": "python",
   "nbconvert_exporter": "python",
   "pygments_lexer": "ipython3",
   "version": "3.8.5"
  }
 },
 "nbformat": 4,
 "nbformat_minor": 2
}
